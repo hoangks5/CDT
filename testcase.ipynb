{
 "cells": [
  {
   "cell_type": "code",
   "execution_count": 2,
   "metadata": {},
   "outputs": [
    {
     "data": {
      "text/plain": [
       "['V1 1 11 12H00 THOI SU 2019_5.wav',\n",
       " 'test1.wav',\n",
       " '510_cbsk___file_goc_510201920_3.wav',\n",
       " 'V1 09 11 12H00 THOI SU 2019_143.wav',\n",
       " 'external_1306_800_20191118_092419_1574043872_22241_21.wav',\n",
       " '510_cbsk___file_goc_510201920_7.wav',\n",
       " 'external_1202_771_20191118_093137_1574044304_22681_2.wav',\n",
       " 'out_90336520401_1301_20191118_092707_1574044026_22365_3.wav',\n",
       " '6.wav',\n",
       " '91.wav',\n",
       " 'out_90936764668_1227_20191118_091805_1574043484_21928_43.wav',\n",
       " 'out_902438722301_1324_20191118_092751_1574044070_22410_1.wav',\n",
       " 'V1 31 10 12h00 THOI SU 2019_2_235.wav']"
      ]
     },
     "execution_count": 2,
     "metadata": {},
     "output_type": "execute_result"
    }
   ],
   "source": [
    "import os\n",
    "file_test = os.listdir('./')\n",
    "for file in file_test:\n",
    "    if file.split('.')[1] != 'wav':\n",
    "        file_test.remove(file)\n",
    "file_test"
   ]
  },
  {
   "cell_type": "code",
   "execution_count": 14,
   "metadata": {},
   "outputs": [],
   "source": [
    "# Test FPT API\n",
    "\n",
    "import requests\n",
    "url = 'https://api.fpt.ai/hmi/asr/general'\n",
    "response_fpt_api = []\n",
    "for file in file_test:\n",
    "    payload = open(file, 'rb').read()\n",
    "    headers = {\n",
    "        'api-key': 'lc2xnnQIPwQPKffRX4PB6GS7L5bQUClm'\n",
    "    }\n",
    "    response_fpt_api.append(requests.post(url=url, data=payload, headers=headers).json())\n",
    "    import time\n",
    "    time.sleep(2)"
   ]
  },
  {
   "cell_type": "code",
   "execution_count": 23,
   "metadata": {},
   "outputs": [
    {
     "name": "stdout",
     "output_type": "stream",
     "text": [
      "Nhóm phóng viên Kim Thanh và lại hoa phản ánh .\n",
      "Mời các đồng chí và các bạn nghe chương trình phát thanh quân đội nhân dân .\n",
      "Với 1 người đi làm thuê như anh số tiền kiếm được chưa đủ để thỏa mãn nhu cầu cá nhân nói gì đến alo cho gia đình .\n",
      "Với Bộ trưởng Bộ Thông tin truyền thông Nguyễn Mạnh Hùng .\n",
      "Chị cho em xin tên của chị ạ .\n",
      "Giống như anh Hải Anh đặng Mạnh Hùng cũng là người có thâm niên nghiện ma túy nhiều năm .\n",
      "87 năm 35647 .\n",
      "Dạ không chị ạ , bên em có 2 loại hình kinh doanh nghiệp dưới 100 người già trên 100 người thôi .\n",
      "Tôi thấy quầy ăn cơm với mẹ nào đó là giọng của Nguyễn Ái Quốc từ những 520 của tháng kỳ trước về 1 Nhà nước Việt Nam độc lập dân chủ .\n",
      "Tuyệt quá , chỉ cần bấm nút là nó chạy mà không cần tới cố gắng chị nữa .\n",
      "Nên chị là hóa đơn giá trị gia tăng đúng không ạ , đúng rồi .\n",
      "Nên thành thật xin nghe alo dạ em chào chị ạ .\n",
      "Cũng trong ngày hôm qua , đội tuyển nữ Việt Nam đã có chiến thắng 3-0 trong trận đá giao hữu với đội bóng đá của Đại sứ quán Mỹ tại Việt Nam .\n"
     ]
    }
   ],
   "source": [
    "for text in response_fpt_api:\n",
    "    print(text['hypotheses'][0]['utterance'])"
   ]
  },
  {
   "cell_type": "code",
   "execution_count": 4,
   "metadata": {},
   "outputs": [],
   "source": [
    "# Test package SpeechRecognition\n",
    "\n",
    "import speech_recognition as sr\n",
    "r = sr.Recognizer()\n",
    "response_sr = []\n",
    "for file in file_test:\n",
    "    harvard = sr.AudioFile(file)\n",
    "    with harvard as source:\n",
    "        audio = r.record(source)\n",
    "    response_sr.append(r.recognize_google(audio,language=\"vi-VI\"))"
   ]
  },
  {
   "cell_type": "code",
   "execution_count": 5,
   "metadata": {},
   "outputs": [
    {
     "name": "stdout",
     "output_type": "stream",
     "text": [
      "nhóm phóng viên Kim than và đại hóa phản\n",
      "mời các đồng chí và các bạn nghe chương trình phát thanh Quân đội nhân dân\n",
      "với một người đi làm thuê như anh số tiền kiếm được chưa đủ để thỏa mãn nhu cầu cá nhân Nói gì đến chăm lo cho gia đình\n",
      "Bộ trưởng Bộ Thông tin và Truyền thông Nguyễn Mạnh Hùng\n",
      "Xem tên của chị\n",
      "giống như anh Hải Anh Đăng Mạnh Hùng cũng là người có thâm niên nghiện ma túy nhiều năm\n",
      "875 Bát Tràng 5647\n",
      "Dạ không trẻ bên em có 2 loại hình loại hình doanh nghiệp dưới 100 người và trên 100 người thôi\n",
      "ước vọng của Nguyễn Ái Quốc từ những năm 20 của thế kỷ trước về một nhà nước Việt Nam độc lập dân chủ\n",
      "Tuyệt quá chỉ cần bấm nút là nó chạy mà không cần phải cố gắng chị nữa\n",
      "Nhưng chị là hóa đơn giá trị gia tăng đúng không\n",
      "Alo em chào chị ạ\n",
      "trong ngày hôm qua đội tuyển nữ Việt Nam đã có chiến thắng 30 trong trận đá giao hữu với đội bóng đá của đại sứ quán Mỹ tại Việt Nam\n"
     ]
    }
   ],
   "source": [
    "for text in response_sr:\n",
    "    print(text)"
   ]
  },
  {
   "cell_type": "code",
   "execution_count": 12,
   "metadata": {},
   "outputs": [
    {
     "name": "stdout",
     "output_type": "stream",
     "text": [
      "[{\"status\":0,\"msg\":\"STATUS_SUCCESS\",\"segment\":0,\"result\":{\"hypotheses\":[{\"transcript\":\"đó là ước vọng của nguyễn ái quốc từ những năm hai mươi của thế kỷ trước\",\"transcript_normed\":\"đó là ước vọng của nguyễn ái quốc từ những năm hai mươi của thế kỷ trước\",\"confidence\":0.5,\"likelihood\":50}],\"final\":true},\"segment_start\":0.0,\"segment_length\":3.74,\"total_length\":3.74}, {\"status\":0,\"msg\":\"STATUS_SUCCESS\",\"segment\":1,\"result\":{\"hypotheses\":[{\"transcript\":\"về một nhà nước việt nam độc lập dân chủ\",\"transcript_normed\":\"về một nhà nước việt nam độc lập dân chủ\",\"confidence\":0.5,\"likelihood\":50}],\"final\":true},\"segment_start\":3.77,\"segment_length\":2.8200002,\"total_length\":2.8200002}]\n"
     ]
    }
   ],
   "source": [
    "# Test Viettel API\n",
    "\n",
    "import requests\n",
    "url = \"https://viettelgroup.ai/voice/api/asr/v1/rest/decode_file\"\n",
    "headers = {\n",
    "    'token': 'Z2vXAPJCMjUVkJuM7nDvzpyB7XtE-3QpAx6EQGusnXpfnjiOzUHhpiug7LclYdk4',\n",
    "    #'sample_rate': 16000,\n",
    "    #'format':'S16LE',\n",
    "    #'num_of_channels':1,\n",
    "    #'asr_model': 'model code'\n",
    "}\n",
    "#for file in file_test:\n",
    "files = {'file': open('6.wav','rb')}\n",
    "response = requests.post(url,files=files, headers=headers)\n",
    "print(response.text)"
   ]
  },
  {
   "cell_type": "code",
   "execution_count": null,
   "metadata": {},
   "outputs": [],
   "source": []
  }
 ],
 "metadata": {
  "kernelspec": {
   "display_name": "Python 3.8.0 64-bit",
   "language": "python",
   "name": "python3"
  },
  "language_info": {
   "codemirror_mode": {
    "name": "ipython",
    "version": 3
   },
   "file_extension": ".py",
   "mimetype": "text/x-python",
   "name": "python",
   "nbconvert_exporter": "python",
   "pygments_lexer": "ipython3",
   "version": "3.8.0"
  },
  "orig_nbformat": 4,
  "vscode": {
   "interpreter": {
    "hash": "aee8b7b246df8f9039afb4144a1f6fd8d2ca17a180786b69acc140d282b71a49"
   }
  }
 },
 "nbformat": 4,
 "nbformat_minor": 2
}
